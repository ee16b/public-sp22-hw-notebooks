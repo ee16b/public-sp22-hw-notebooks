{
 "cells": [
  {
   "cell_type": "code",
   "execution_count": null,
   "metadata": {},
   "outputs": [],
   "source": [
    "import numpy as np\n",
    "from scipy.linalg import fractional_matrix_power\n",
    "import matplotlib.pyplot as plt\n",
    "from matplotlib.patches import Rectangle\n",
    "from matplotlib import animation"
   ]
  },
  {
   "cell_type": "markdown",
   "metadata": {},
   "source": [
    "This notebook will help you with the numerical calculations for **Segway Tours**."
   ]
  },
  {
   "cell_type": "markdown",
   "metadata": {},
   "source": [
    "## Part (b): Convert linear continuous time system to linear discrete time system"
   ]
  },
  {
   "cell_type": "code",
   "execution_count": null,
   "metadata": {},
   "outputs": [],
   "source": [
    "# define constants\n",
    "m = 1\n",
    "M = 10\n",
    "g = 10\n",
    "l = 1\n",
    "k = 0.1\n",
    "Delta = 1\n",
    "\n",
    "# define A and \\vec{b} for linearized system\n",
    "A = np.array([[0, 1, 0, 0],\n",
    "              [0, -k/M, -(m*g)/M, 0],\n",
    "              [0, 0, 0, 1],\n",
    "              [0, k/(M*l), ((M+m)*g)/(M*l), 0]])\n",
    "b = np.array([[0], [1/M], [0], [-1/(M*l)]])"
   ]
  },
  {
   "cell_type": "code",
   "execution_count": null,
   "metadata": {},
   "outputs": [],
   "source": [
    "# Eigendecomposition of A\n",
    "eigs, V = np.linalg.eig(A)\n",
    "V_inv = np.linalg.inv(V)\n",
    "\n",
    "# Convert to discrete time parameters A_d and \\vec{b}_d\n",
    "Lambda_d = np.diag(np.exp(eigs * Delta))\n",
    "A_d = V @ Lambda_d @ V_inv\n",
    "\n",
    "num = np.exp(eigs * Delta) - 1\n",
    "diag = np.ones_like(eigs) * Delta\n",
    "for idx, ele in enumerate(eigs):\n",
    "    if ele:\n",
    "        diag[idx] = num[idx] / ele\n",
    "M_d = np.diag(diag)\n",
    "b_d = V @ M_d @ V_inv @ b\n",
    "\n",
    "print(f'A_d={A_d}')\n",
    "print(f'b_d={b_d}')"
   ]
  },
  {
   "cell_type": "markdown",
   "metadata": {},
   "source": [
    "## Part (c): Controllability of linear discrete time system"
   ]
  },
  {
   "cell_type": "code",
   "execution_count": null,
   "metadata": {},
   "outputs": [],
   "source": [
    "Ab = A_d @ b_d\n",
    "A2b = A_d @ Ab\n",
    "A3b = A_d @ A2b\n",
    "### BEGIN STUDENT\n",
    "# HINT: remember from Note 11 page 3 that for the system given by x[n+1] = A x[n] + B u[n]\n",
    "# the controllability matrix is C = [B AB A^2B ... A^(n-1)B].\n",
    "# Adapt that result to the current system. You may want to use the Numpy function np.hstack().\n",
    "# Please pay attention to the order of the columns of C. If you flip the order, the animation code will break.\n",
    "C = ...\n",
    "### END STUDENT\n",
    "\n",
    "rank_C = np.linalg.matrix_rank(C)\n",
    "print(f'Rank of controllability matrix is {rank_C}')\n",
    "print(f'C={C}')"
   ]
  },
  {
   "cell_type": "markdown",
   "metadata": {},
   "source": [
    "## Parts (d) and (e): Find input control sequence for bringing given initial state to upright position at rest"
   ]
  },
  {
   "cell_type": "code",
   "execution_count": null,
   "metadata": {},
   "outputs": [],
   "source": [
    "state_final = np.array([[0], [0], [0], [0]])\n",
    "state_initial = np.array([[-2], [3.1], [0.3], [-0.6]])  # part (d): linearization is valid\n",
    "#state_initial = np.array([[-2], [3.1], [3.3], [-0.6]])  # part (e): linearization is not valid\n",
    "A4 = A_d @ A_d @ A_d @ A_d\n",
    "\n",
    "### BEGIN STUDENT\n",
    "# HINT: Look at Note 11 page 5\n",
    "u_d = ...\n",
    "### END STUDENT\n",
    "print(f'u_d={u_d}')"
   ]
  },
  {
   "cell_type": "markdown",
   "metadata": {},
   "source": [
    "Note that, because of the column order we chose for the controllability matrix, the control input vector $u_d$ is arranged as $u_d = \\begin{bmatrix} u_d[3] \\\\ u_d[2] \\\\ u_d[1] \\\\ u_d[0] \\end{bmatrix}$."
   ]
  },
  {
   "cell_type": "markdown",
   "metadata": {},
   "source": [
    "## Set up simulation (adapted from old 16A code)"
   ]
  },
  {
   "cell_type": "markdown",
   "metadata": {},
   "source": [
    "### Preamble"
   ]
  },
  {
   "cell_type": "markdown",
   "metadata": {},
   "source": [
    "This function will take care of animating the segway. You do not have to understand the code in this cell for this HW."
   ]
  },
  {
   "cell_type": "code",
   "execution_count": null,
   "metadata": {},
   "outputs": [],
   "source": [
    "# frames per second in simulation\n",
    "fps = 20\n",
    "# length of the segway arm/stick\n",
    "stick_length = 20.\n",
    "\n",
    "def animate_segway(t, states, controls, length):\n",
    "    #Animates the segway\n",
    "    \n",
    "    # Set up the figure, the axis, and the plot elements we want to animate\n",
    "    fig = plt.figure()\n",
    "    \n",
    "    # some config\n",
    "    segway_width = 10.4\n",
    "    segway_height = 10.2\n",
    "    \n",
    "    # x coordinate of the segway stick\n",
    "    segwayStick_x = np.add(states[0, :], length * np.sin(states[2, :]))\n",
    "    segwayStick_y = length * np.cos(states[2, :])\n",
    "    \n",
    "    # set the limits\n",
    "    xmin = min(np.around(states[0, :].min() - segway_width / 2.0, 1), np.around(segwayStick_x.min(), 1))\n",
    "    xmax = max(np.around(states[0, :].max() + segway_width / 2.0, 1), np.around(segwayStick_x.max(), 1))\n",
    "    \n",
    "    # create the axes\n",
    "    ax = plt.axes(xlim=(xmin-length, xmax+length), ylim=(-length * 1.2, length * 1.2), aspect='equal')\n",
    "    \n",
    "    # display the current time\n",
    "    time_text = ax.text(0.05, 0.9, 'time', transform=ax.transAxes)\n",
    "    \n",
    "    # display the current control\n",
    "    control_text = ax.text(0.05, 0.8, 'control', transform=ax.transAxes)\n",
    "    \n",
    "    # create rectangle for the segway\n",
    "    rect = Rectangle([states[0, 0] - segway_width / 2.0, -segway_height / 2],\n",
    "        segway_width, segway_height, fill=True, color='gold', ec='blue')\n",
    "    ax.add_patch(rect)\n",
    "    \n",
    "    # blank line for the stick with o for the ends\n",
    "    stick_line, = ax.plot([], [], lw=2, marker='o', markersize=6, color='blue')\n",
    "\n",
    "    # vector for the control (force)\n",
    "    force_vec = ax.quiver([],[],[],[],angles='xy',scale_units='xy',scale=1)\n",
    "\n",
    "    # initialization function: plot the background of each frame\n",
    "    def init():\n",
    "        time_text.set_text('')\n",
    "        control_text.set_text('')\n",
    "        rect.set_xy((0.0, 0.0))\n",
    "        stick_line.set_data([], [])\n",
    "        return time_text, rect, stick_line, control_text\n",
    "\n",
    "    # animation function: update the objects\n",
    "    def animate(i):\n",
    "        time_text.set_text('time = {:2.2f}'.format(t[i]))\n",
    "        control_text.set_text('force = {:2.3f}'.format(controls[i]))\n",
    "        rect.set_xy((states[0, i] - segway_width / 2.0, -segway_height / 2))\n",
    "        stick_line.set_data([states[0, i], segwayStick_x[i]], [0, segwayStick_y[i]])\n",
    "        return time_text, rect, stick_line, control_text\n",
    "\n",
    "    # call the animator function\n",
    "    anim = animation.FuncAnimation(fig, animate, frames=len(t), init_func=init,\n",
    "            interval=1000/fps, blit=False, repeat=False)\n",
    "    return anim\n",
    "    #plt.show()"
   ]
  },
  {
   "cell_type": "markdown",
   "metadata": {},
   "source": [
    "### Simulation: Rerun this cell whenever you change any state or constants for the discrete time system"
   ]
  },
  {
   "cell_type": "markdown",
   "metadata": {},
   "source": [
    "You do not have to understand the code in this cell for this HW."
   ]
  },
  {
   "cell_type": "code",
   "execution_count": null,
   "metadata": {},
   "outputs": [],
   "source": [
    "controls = np.flip(np.squeeze(u_d))\n",
    "\n",
    "# Add an extra couple of seconds to the simulation after the input controls with no control.\n",
    "# The effect of this is just to show how the system will continue after the controller \"stops controlling\"\n",
    "controls = np.append(controls, [0, 0])\n",
    "\n",
    "# number of steps in the simulation\n",
    "nr_steps = controls.shape[0]\n",
    "nr_states = A_d.shape[0]\n",
    "\n",
    "# We now compute finer dynamics and control vectors for smoother visualization\n",
    "Afine = fractional_matrix_power(A_d, (1/fps))\n",
    "Asum = np.eye(nr_states)\n",
    "for idx in range(1, fps):\n",
    "    Asum = Asum + np.linalg.matrix_power(Afine, idx)\n",
    "    \n",
    "bfine = np.linalg.inv(Asum) @ b_d\n",
    "\n",
    "# We also expand the controls in the \"intermediate steps\" (only for visualization)\n",
    "controls_final = np.outer(controls, np.ones(fps)).flatten()\n",
    "controls_final = np.append(controls_final, [0])\n",
    "\n",
    "# We compute all the states starting from x0 and using the controls\n",
    "states = np.empty([nr_states, fps*(nr_steps)+1])\n",
    "states[:, [0]] = state_initial\n",
    "for stepId in range(1, fps*(nr_steps)+1):\n",
    "    states[:, [stepId]] = Afine @ states[:, [stepId-1]] + bfine * controls_final[stepId-1]\n",
    "    \n",
    "# Now create the time vector for simulation\n",
    "t = np.linspace(1/fps, nr_steps, fps*(nr_steps), endpoint=True)\n",
    "t = np.append([0], t)"
   ]
  },
  {
   "cell_type": "markdown",
   "metadata": {},
   "source": [
    "### Visualization for discrete time system"
   ]
  },
  {
   "cell_type": "code",
   "execution_count": null,
   "metadata": {},
   "outputs": [],
   "source": [
    "%matplotlib nbagg\n",
    "anim = animate_segway(t, states, controls_final, stick_length)\n",
    "anim"
   ]
  },
  {
   "cell_type": "markdown",
   "metadata": {},
   "source": [
    "Since the system is controllable, the segway should stabilize to upright position at rest using the correct input sequence $u_d$. However, the behavior of the segway looks more realistic in part (d) rather than the unexpected rotations in part (e). \n",
    "This is because the linearization approximation is valid only for small $\\theta$ and $\\frac{d\\theta}{dt}$ in part (d), but not for the larger $\\theta$ in part (e). Hence the discrete time linear model is a good approximation of the original continuous time non-linear system only for small deviations around the upright position at rest. In order to properly model the system for any deviation, we will have to use a discrete time non-linear model. "
   ]
  },
  {
   "cell_type": "markdown",
   "metadata": {},
   "source": [
    "It is important to understand that this is a limitation of linearizing a non-linear system, regardless of whether we analyze the system in continuous or discrete time domain. Analyzing the system in continuous time instead of discretizing won't remove the linearization approximation issue. To help convince ourselves, let's compare the original continuous time non-linear system with its continuous time linear model. Deriving the control inputs in the continuous time case is out of scope of 16B, so let's look at the simpler case of the segway stabilizing to the steady hanging position at rest in the absence of any input."
   ]
  },
  {
   "cell_type": "markdown",
   "metadata": {},
   "source": [
    "## Part (f): Continuous time Non Linear vs Linear Model"
   ]
  },
  {
   "cell_type": "code",
   "execution_count": null,
   "metadata": {},
   "outputs": [],
   "source": [
    "def next_state(cur_state, u, dt, linearized):\n",
    "    '''Calculates and returns the next state based on the current state and applied input for continuous time system. \n",
    "    Has option for linear and non-linear state variable calculation.\n",
    "    Parameters\n",
    "    ----------\n",
    "    cur_state: np.ndarray\n",
    "        (4, 1) array respresenting current state\n",
    "    u: float\n",
    "        current control input\n",
    "    dt: float\n",
    "        time interval\n",
    "    linearized: bool\n",
    "        True to use linear model, False to use non-linear model\n",
    "    \n",
    "    Returns\n",
    "    -------\n",
    "    next_state: np.ndarray\n",
    "        (4, 1) array respresenting current state\n",
    "    '''\n",
    "    # Unpack state variables\n",
    "    x = cur_state[0, 0]\n",
    "    x_dot = cur_state[1, 0]\n",
    "    theta = cur_state[2, 0]\n",
    "    theta_dot = cur_state[3, 0]\n",
    "    \n",
    "    if linearized:\n",
    "        # for linear model, use dx/dt = Ax + bu\n",
    "        _temp = A @ cur_state + b * u\n",
    "        acceleration = _temp[1, 0]\n",
    "        ang_acceleration = _temp[3, 0]\n",
    "    else:\n",
    "        # Calculate angular and linear acceleration\n",
    "        den = M / m + (np.sin(theta)) ** 2\n",
    "        acceleration = (u / m + (theta_dot ** 2) * l * np.sin(theta) - g * np.sin(theta) * np.cos(theta) - k / m * x_dot) / den\n",
    "        ang_acceleration = (-u / m * np.cos(theta) - (theta_dot ** 2) * l * np.cos(theta) * np.sin(theta) + (M/m + 1) * g * np.sin(theta) + k / m * x_dot * np.cos(theta)) / (l * den)\n",
    "\n",
    "    # Update angular and linear velocities \n",
    "    vel_new = x_dot + acceleration * dt\n",
    "    ang_vel_new = theta_dot + ang_acceleration * dt\n",
    "\n",
    "    # Update angular and linear positions\n",
    "    pos_new = x + vel_new * dt\n",
    "    ang_new = theta + ang_vel_new * dt\n",
    "\n",
    "    # Make sure angle is always between -pi and pi\n",
    "    while ang_new < -np.pi:\n",
    "        ang_new += 2 * np.pi\n",
    "    while (ang_new > np.pi):\n",
    "        ang_new -= 2 * np.pi\n",
    "\n",
    "    # Return next state\n",
    "    next_state = np.array([[pos_new], [vel_new], [ang_new], [ang_vel_new]]) \n",
    "    return next_state"
   ]
  },
  {
   "cell_type": "markdown",
   "metadata": {},
   "source": [
    "### Simulation: Rerun this cell whenever you change any state or constants for the continuous time system"
   ]
  },
  {
   "cell_type": "markdown",
   "metadata": {},
   "source": [
    "You do not have to understand the code in this cell for this HW. Just toggle the $\\texttt{linearized}$ flag."
   ]
  },
  {
   "cell_type": "code",
   "execution_count": null,
   "metadata": {},
   "outputs": [],
   "source": [
    "linearized = False  # toggle between True and False\n",
    "\n",
    "nr_steps = 20\n",
    "nr_states = A.shape[0]\n",
    "\n",
    "# We compute all the states starting from x0 and using the controls\n",
    "states = np.empty([nr_states, fps*(nr_steps)+1])\n",
    "states[:, [0]] = np.array([[0], [0], [3], [0]]);\n",
    "for stepId in range(1, fps*(nr_steps)+1):\n",
    "    states[:, [stepId]] = next_state(states[:, [stepId-1]], 0, 1/fps, linearized)\n",
    "\n",
    "# Now create the time vector for simulation\n",
    "t = np.linspace(1/fps, nr_steps, fps*(nr_steps), endpoint=True)\n",
    "t = np.append([0], t)"
   ]
  },
  {
   "cell_type": "markdown",
   "metadata": {},
   "source": [
    "### Visualization for continuous time system"
   ]
  },
  {
   "cell_type": "code",
   "execution_count": null,
   "metadata": {},
   "outputs": [],
   "source": [
    "%matplotlib nbagg\n",
    "anim = animate_segway(t, states, np.zeros(fps*(nr_steps)+1), stick_length)\n",
    "anim"
   ]
  },
  {
   "cell_type": "markdown",
   "metadata": {},
   "source": [
    "Changelog:\n",
    "- Spring 21: Created by Ayan Biswas, Daniel Abraham\n",
    "- Fall 21: Merged continuous time system in same notebook, Ayan Biswas"
   ]
  }
 ],
 "metadata": {
  "kernelspec": {
   "display_name": "Python 3 (ipykernel)",
   "language": "python",
   "name": "python3"
  },
  "language_info": {
   "codemirror_mode": {
    "name": "ipython",
    "version": 3
   },
   "file_extension": ".py",
   "mimetype": "text/x-python",
   "name": "python",
   "nbconvert_exporter": "python",
   "pygments_lexer": "ipython3",
   "version": "3.7.11"
  }
 },
 "nbformat": 4,
 "nbformat_minor": 2
}
